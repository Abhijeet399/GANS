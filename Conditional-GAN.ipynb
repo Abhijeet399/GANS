{
  "nbformat": 4,
  "nbformat_minor": 5,
  "metadata": {
    "kernelspec": {
      "name": "python3",
      "display_name": "Python 3.7.10 64-bit ('pytorch-env': conda)"
    },
    "language_info": {
      "codemirror_mode": {
        "name": "ipython",
        "version": 3
      },
      "file_extension": ".py",
      "mimetype": "text/x-python",
      "name": "python",
      "nbconvert_exporter": "python",
      "pygments_lexer": "ipython3",
      "version": "3.7.10"
    },
    "interpreter": {
      "hash": "dc60f787052f1480302b36cd173f96b3b29cb481245b28980ba4e2a6880e8466"
    },
    "colab": {
      "name": "WGAN-CelebA.ipynb",
      "provenance": []
    },
    "accelerator": "GPU"
  },
  "cells": [
    {
      "cell_type": "code",
      "metadata": {
        "id": "FY62CvYsN8Ot",
        "colab": {
          "base_uri": "https://localhost:8080/"
        },
        "outputId": "e7456719-da06-4111-9884-0d5d355057ca"
      },
      "source": [
        "from google.colab import drive\n",
        "drive.mount('/content/drive')"
      ],
      "id": "FY62CvYsN8Ot",
      "execution_count": 1,
      "outputs": [
        {
          "output_type": "stream",
          "text": [
            "Mounted at /content/drive\n"
          ],
          "name": "stdout"
        }
      ]
    },
    {
      "cell_type": "code",
      "metadata": {
        "id": "03c0f75e-8526-42c2-a0b7-f51742aaedbb"
      },
      "source": [
        "import torch\n",
        "import torch.nn as nn\n",
        "import torch.optim as optim\n",
        "import torchvision\n",
        "import torchvision.datasets as datasets\n",
        "import torchvision.transforms as transforms\n",
        "from torch.utils.data import DataLoader, Dataset\n",
        "from torch.utils.tensorboard import SummaryWriter\n",
        "import os\n",
        "import zipfile\n",
        "from skimage import io"
      ],
      "id": "03c0f75e-8526-42c2-a0b7-f51742aaedbb",
      "execution_count": 1,
      "outputs": []
    },
    {
      "cell_type": "code",
      "metadata": {
        "id": "feNtgOrANzTq"
      },
      "source": [
        "# extract all contents of zip file\n",
        "train_path = \"/content/drive/MyDrive/Computer Vision /images.zip\"\n",
        "zip_train = zipfile.ZipFile(train_path, 'r')\n",
        "zip_train.extractall(\"./\")\n",
        "zip_train.close()"
      ],
      "id": "feNtgOrANzTq",
      "execution_count": 3,
      "outputs": []
    },
    {
      "cell_type": "code",
      "metadata": {
        "id": "IN9DRnH7xQdr"
      },
      "source": [
        "%load_ext tensorboard"
      ],
      "id": "IN9DRnH7xQdr",
      "execution_count": 4,
      "outputs": []
    },
    {
      "cell_type": "code",
      "metadata": {
        "id": "d1ac33db-97df-4b65-80d5-8100e485fb99"
      },
      "source": [
        "class Discriminator(nn.Module):\n",
        "    def __init__(self, channels_img, features_d, num_classes, img_size):\n",
        "        super(Discriminator, self).__init__()\n",
        "        self.img_size = img_size\n",
        "        self.disc = nn.Sequential(\n",
        "            # Input: N X channels_img, 64 x 64\n",
        "            nn.Conv2d(channels_img+1, features_d, kernel_size=4, stride=2, padding=1), # 32 x 32\n",
        "            nn.LeakyReLU(0.2),\n",
        "            self._block(features_d, features_d*2, kernel_size=4, stride=2, padding=1), # 16 x 16\n",
        "            self._block(features_d*2, features_d*4, kernel_size=4, stride=2, padding=1), # 8 x 8 \n",
        "            self._block(features_d*4, features_d*8, kernel_size=4, stride=2, padding=1), # 4 x 4\n",
        "            nn.Conv2d(features_d*8, 1, kernel_size=4, stride=2, padding=0) # 1 x 1\n",
        "\n",
        "        )\n",
        "        self.embed = nn.Embedding(num_classes, img_size*img_size)\n",
        "        \n",
        "        \n",
        "    def _block(self, in_channels, out_channels, kernel_size, stride, padding):\n",
        "        return nn.Sequential(\n",
        "            nn.Conv2d(in_channels,\n",
        "             out_channels,\n",
        "              kernel_size = kernel_size,\n",
        "              stride = stride,\n",
        "              padding = padding, \n",
        "              bias= False),\n",
        "              nn.InstanceNorm2d(out_channels, affine=True),\n",
        "              nn.LeakyReLU(0.2)\n",
        "        )\n",
        "\n",
        "    def forward(self, x, labels):\n",
        "        embedding = self.embed(labels).view(labels.shape[0], 1, self.img_size, self.img_size)\n",
        "        x = torch.cat([x, embedding], dim=1)\n",
        "        return self.disc(x)"
      ],
      "id": "d1ac33db-97df-4b65-80d5-8100e485fb99",
      "execution_count": 18,
      "outputs": []
    },
    {
      "cell_type": "code",
      "metadata": {
        "id": "AE8117RFv04Y"
      },
      "source": [
        "class Generator(nn.Module):\n",
        "    def __init__(\n",
        "        self,\n",
        "        z_dim, \n",
        "        channels_img, \n",
        "        features_g,\n",
        "        img_size,\n",
        "        embed_size,\n",
        "        num_classes\n",
        "        ):\n",
        "        super(Generator, self).__init__()\n",
        "        self.img_size = img_size\n",
        "        self.net = nn.Sequential(\n",
        "            # INPUT: n x z_dim x 1 x 1\n",
        "            self._block(z_dim + 1, features_g*16, 4, 1, 0), # N x f_g*16 x 4 x 4\n",
        "            self._block(features_g*16, features_g*8, 4, 2, 1), # 8 x 8\n",
        "            self._block(features_g*8, features_g*4, 4, 2, 1), # 16 x 16\n",
        "            self._block(features_g*4, features_g*2, 4, 2, 1), # 32 x 32\n",
        "            nn.ConvTranspose2d(\n",
        "                features_g*2, channels_img, kernel_size=4, stride=2, padding=1\n",
        "            ), # 64 x 64\n",
        "            nn.Tanh() #[-1,1]\n",
        "        )\n",
        "        sel.embed = nn.Embedding(num_classes, embed_size)\n",
        "\n",
        "    def forward(self, x, labels):\n",
        "        # latent vector z: N x noise_dim x 1 x 1\n",
        "        # hence we need the embedding to be N x embed_size x 1 x 1\n",
        "        embedding = self.embed(labels).unsqueeze(2).unsqueeze(3)\n",
        "        x = torch.cat([x,embedding], dim = 1)\n",
        "        return self.net(x)\n",
        "\n",
        "    def _block(self, in_channels, out_channels, kernel_size, stride, padding):\n",
        "        return nn.Sequential(\n",
        "            nn.ConvTranspose2d(\n",
        "                in_channels=in_channels,\n",
        "                out_channels=out_channels, \n",
        "                kernel_size=kernel_size, \n",
        "                stride=stride, \n",
        "                padding=padding, \n",
        "                bias=False),\n",
        "            nn.BatchNorm2d(out_channels),\n",
        "            nn.ReLU()\n",
        "        )"
      ],
      "id": "AE8117RFv04Y",
      "execution_count": 6,
      "outputs": []
    },
    {
      "cell_type": "code",
      "metadata": {
        "id": "d2K0v--Dv04Z"
      },
      "source": [
        "def initialize_weights(model):\n",
        "    for m in model.modules():\n",
        "        if isinstance(m, (nn.Conv2d, nn.ConvTranspose2d, nn.BatchNorm2d)):\n",
        "            nn.init.normal_(m.weight.data, 0.0, 0.02)"
      ],
      "id": "d2K0v--Dv04Z",
      "execution_count": 7,
      "outputs": []
    },
    {
      "cell_type": "code",
      "metadata": {
        "id": "yJt9CFuKv04b"
      },
      "source": [
        "# Hyperparameters etc\n",
        "device = torch.device(\"cuda\" if torch.cuda.is_available() else \"cpu\")\n",
        "LEARNING_RATE = 1e-4\n",
        "BATCH_SIZE = 64\n",
        "IMAGE_SIZE = 64\n",
        "CHANNELS_IMG = 3\n",
        "Z_DIM = 100\n",
        "NUM_EPOCHS = 5\n",
        "FEATURES_DISC = 64\n",
        "FEATURES_GEN = 64\n",
        "CRITIC_ITERATIONS =  5\n",
        "LAMBDA_GP = 10\n",
        "NUM_CLASSES = 10\n",
        "GEN_EMBEDDING = 100"
      ],
      "id": "yJt9CFuKv04b",
      "execution_count": 2,
      "outputs": []
    },
    {
      "cell_type": "code",
      "metadata": {
        "id": "4LwVqTISv04c"
      },
      "source": [
        "transform = transforms.Compose(\n",
        "    [   transforms.ToPILImage(),\n",
        "        transforms.Resize((IMAGE_SIZE, IMAGE_SIZE)),\n",
        "        transforms.ToTensor(),\n",
        "        transforms.Normalize(\n",
        "            [0.5 for _ in range(CHANNELS_IMG)], [0.5 for _ in range(CHANNELS_IMG)]\n",
        "        )\n",
        "    ]\n",
        ")"
      ],
      "id": "4LwVqTISv04c",
      "execution_count": 10,
      "outputs": []
    },
    {
      "cell_type": "code",
      "metadata": {
        "id": "QFf4Eywqv04d"
      },
      "source": [
        "dataset = CelebA(root_dir=\"/content/images\", transform=transform)\n",
        "loader = DataLoader(dataset, batch_size=BATCH_SIZE, shuffle=True)"
      ],
      "id": "QFf4Eywqv04d",
      "execution_count": 11,
      "outputs": []
    },
    {
      "cell_type": "code",
      "metadata": {
        "id": "tadsx7-0v04e"
      },
      "source": [
        "gen = Generator(Z_DIM, CHANNELS_IMG, FEATURES_GEN, IMAGE_SIZE, GEN_EMBEDDING, NUM_CLASSES).to(device)\n",
        "critic = Discriminator(CHANNELS_IMG, FEATURES_DISC, NUM_CLASSES, IMAGE_SIZE).to(device)\n",
        "initialize_weights(gen)\n",
        "initialize_weights(critic)"
      ],
      "id": "tadsx7-0v04e",
      "execution_count": 12,
      "outputs": []
    },
    {
      "cell_type": "code",
      "metadata": {
        "id": "a1V8faKdv04e"
      },
      "source": [
        "opt_gen = optim.Adam(gen.parameters(), lr=LEARNING_RATE, betas = (0.0, 0.9))\n",
        "opt_critic = optim.Adam(critic.parameters(), lr=LEARNING_RATE, betas = (0.0, 0.9))"
      ],
      "id": "a1V8faKdv04e",
      "execution_count": 13,
      "outputs": []
    },
    {
      "cell_type": "code",
      "metadata": {
        "id": "P_Vjfh5rv04f"
      },
      "source": [
        "fixed_noise = torch.randn(32, Z_DIM, 1, 1).to(device)\n",
        "writer_real = SummaryWriter(f\"runs/WGANS_CELEBA/real\")\n",
        "writer_fake = SummaryWriter(f\"runs/WGANS_CELEBA/fake\")\n",
        "step = 0"
      ],
      "id": "P_Vjfh5rv04f",
      "execution_count": 14,
      "outputs": []
    },
    {
      "cell_type": "code",
      "metadata": {
        "id": "Hr1Lfir8v04f",
        "colab": {
          "base_uri": "https://localhost:8080/"
        },
        "outputId": "376f5d29-2c39-453d-83e8-52bdc42e4d13"
      },
      "source": [
        "gen.train()"
      ],
      "id": "Hr1Lfir8v04f",
      "execution_count": 15,
      "outputs": [
        {
          "output_type": "execute_result",
          "data": {
            "text/plain": [
              "Generator(\n",
              "  (net): Sequential(\n",
              "    (0): Sequential(\n",
              "      (0): ConvTranspose2d(100, 1024, kernel_size=(4, 4), stride=(1, 1), bias=False)\n",
              "      (1): BatchNorm2d(1024, eps=1e-05, momentum=0.1, affine=True, track_running_stats=True)\n",
              "      (2): ReLU()\n",
              "    )\n",
              "    (1): Sequential(\n",
              "      (0): ConvTranspose2d(1024, 512, kernel_size=(4, 4), stride=(2, 2), padding=(1, 1), bias=False)\n",
              "      (1): BatchNorm2d(512, eps=1e-05, momentum=0.1, affine=True, track_running_stats=True)\n",
              "      (2): ReLU()\n",
              "    )\n",
              "    (2): Sequential(\n",
              "      (0): ConvTranspose2d(512, 256, kernel_size=(4, 4), stride=(2, 2), padding=(1, 1), bias=False)\n",
              "      (1): BatchNorm2d(256, eps=1e-05, momentum=0.1, affine=True, track_running_stats=True)\n",
              "      (2): ReLU()\n",
              "    )\n",
              "    (3): Sequential(\n",
              "      (0): ConvTranspose2d(256, 128, kernel_size=(4, 4), stride=(2, 2), padding=(1, 1), bias=False)\n",
              "      (1): BatchNorm2d(128, eps=1e-05, momentum=0.1, affine=True, track_running_stats=True)\n",
              "      (2): ReLU()\n",
              "    )\n",
              "    (4): ConvTranspose2d(128, 3, kernel_size=(4, 4), stride=(2, 2), padding=(1, 1))\n",
              "    (5): Tanh()\n",
              "  )\n",
              ")"
            ]
          },
          "metadata": {
            "tags": []
          },
          "execution_count": 15
        }
      ]
    },
    {
      "cell_type": "code",
      "metadata": {
        "id": "qe0SCkcBv04i",
        "colab": {
          "base_uri": "https://localhost:8080/"
        },
        "outputId": "7dc96645-06d7-4803-f64e-1d09e02cba45"
      },
      "source": [
        "critic.train()"
      ],
      "id": "qe0SCkcBv04i",
      "execution_count": 19,
      "outputs": [
        {
          "output_type": "execute_result",
          "data": {
            "text/plain": [
              "Discriminator(\n",
              "  (disc): Sequential(\n",
              "    (0): Conv2d(3, 64, kernel_size=(4, 4), stride=(2, 2), padding=(1, 1))\n",
              "    (1): LeakyReLU(negative_slope=0.2)\n",
              "    (2): Sequential(\n",
              "      (0): Conv2d(64, 128, kernel_size=(4, 4), stride=(2, 2), padding=(1, 1), bias=False)\n",
              "      (1): BatchNorm2d(128, eps=1e-05, momentum=0.1, affine=True, track_running_stats=True)\n",
              "      (2): LeakyReLU(negative_slope=0.2)\n",
              "    )\n",
              "    (3): Sequential(\n",
              "      (0): Conv2d(128, 256, kernel_size=(4, 4), stride=(2, 2), padding=(1, 1), bias=False)\n",
              "      (1): BatchNorm2d(256, eps=1e-05, momentum=0.1, affine=True, track_running_stats=True)\n",
              "      (2): LeakyReLU(negative_slope=0.2)\n",
              "    )\n",
              "    (4): Sequential(\n",
              "      (0): Conv2d(256, 512, kernel_size=(4, 4), stride=(2, 2), padding=(1, 1), bias=False)\n",
              "      (1): BatchNorm2d(512, eps=1e-05, momentum=0.1, affine=True, track_running_stats=True)\n",
              "      (2): LeakyReLU(negative_slope=0.2)\n",
              "    )\n",
              "    (5): Conv2d(512, 1, kernel_size=(4, 4), stride=(2, 2))\n",
              "    (6): Sigmoid()\n",
              "  )\n",
              ")"
            ]
          },
          "metadata": {
            "tags": []
          },
          "execution_count": 19
        }
      ]
    },
    {
      "cell_type": "code",
      "execution_count": null,
      "metadata": {},
      "outputs": [],
      "source": [
        "def GradientPenality(critic, labels, real, fake, device=\"cpu\"):\n",
        "    BATCH_SIZE, C, H, W = real.shape\n",
        "    epsilon = torch.rand(BATCH_SIZE, 1, 1, 1).repeat(1, C, H, W).to(device)\n",
        "    interpolated_images = real * epsilon + fake * (1 - epsilon)\n",
        "\n",
        "    # calculate critic scores\n",
        "    mixed_Score = critic(interpolated_images, labels)\n",
        "\n",
        "    gradient = torch.autograd.grad(\n",
        "        inputs=interpolated_images,\n",
        "        outputs=mixed_Score,\n",
        "        grad_outputs=torch.ones_like(mixed_Score),\n",
        "        create_graph=True,\n",
        "        retain_graph=True,\n",
        "    )[0]\n",
        "\n",
        "    gradient = gradient.view(gradient.shape[0], -1)\n",
        "    gradient_norm = gradient.norm(2, dim=1)\n",
        "    gradient_penalty = torch.mean((gradient_norm - 1) ** 2)\n",
        "    return gradient_penalty"
      ]
    },
    {
      "cell_type": "code",
      "metadata": {
        "id": "P9NffGDiv04j",
        "colab": {
          "base_uri": "https://localhost:8080/"
        },
        "outputId": "5b86ac57-8db9-4a91-e781-7c070b563d17"
      },
      "source": [
        "for epoch in range(NUM_EPOCHS):\n",
        "    for batch_idx, (real, labels) in enumerate(loader):\n",
        "        real = real.to(device)\n",
        "        labels = labels.to(device)\n",
        "        batch_size = real.shape[0]\n",
        "\n",
        "        ## Train Discriminator \n",
        "        for _ in range(CRITIC_ITERATIONS):\n",
        "            noise = torch.randn((batch_size, Z_DIM, 1, 1)).to(device)\n",
        "            fake = gen(noise, labels)\n",
        "            critic_real = critic(real, labels).reshape(-1)\n",
        "            critic_fake = critic(fake, labels).reshape(-1)\n",
        "            gp = GradientPenality(critic, labels, real, fake, device=device)\n",
        "            loss_critic = (\n",
        "                - (torch.mean(critic_real) - torch.mean(critic_fake)) \n",
        "                + (LAMBDA_GP * gp)\n",
        "            )\n",
        "            critic.zero_grad()\n",
        "            loss_critic.backward(retain_graph = True)\n",
        "            opt_critic.step()\n",
        "\n",
        "        ## Train Gnerator min -E[critic(gen_fake)]\n",
        "        output = critic(fake, labels).reshape(-1)\n",
        "        loss_gen = - torch.mean(output)\n",
        "        gen.zero_grad()\n",
        "        loss_gen.backward()\n",
        "        opt_gen.step()\n",
        "\n",
        "        # print losses and tensorboard\n",
        "        if batch_idx % 100 == 0:\n",
        "            print(\n",
        "                f\"Epoch [{epoch}/{NUM_EPOCHS}] Batch {batch_idx}/{len(loader)} \\\n",
        "                Loss D: {loss_critic:.4f} Loss G: {loss_gen:.4f}\"\n",
        "            )\n",
        "\n",
        "            with torch.no_grad():\n",
        "                fake = gen(noise, labels)\n",
        "                # take out 32 examples\n",
        "                img_grid_real = torchvision.utils.make_grid(\n",
        "                    real[:32], normalize=True\n",
        "                )\n",
        "                img_grid_fake = torchvision.utils.make_grid(\n",
        "                    fake[:32], normalize=True\n",
        "                )\n",
        "                writer_real.add_image(\"Real\", img_grid_real, global_step=step)\n",
        "                writer_fake.add_image(\"Fake\", img_grid_fake, global_step=step)\n",
        "            step += 1\n",
        "\n",
        "\n"
      ],
      "id": "P9NffGDiv04j",
      "execution_count": null,
      "outputs": [
        {
          "output_type": "stream",
          "text": [
            "Epoch [0/5] Batch 0/3166                 Loss D: -0.0198 Loss G: -0.4956\n"
          ],
          "name": "stdout"
        }
      ]
    },
    {
      "cell_type": "code",
      "metadata": {
        "id": "H7aK2sAEv04k"
      },
      "source": [
        "tensorboard  --logdir=runs"
      ],
      "id": "H7aK2sAEv04k",
      "execution_count": null,
      "outputs": []
    }
  ]
}